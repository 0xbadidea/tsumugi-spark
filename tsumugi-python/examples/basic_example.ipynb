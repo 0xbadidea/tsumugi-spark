{
 "cells": [
  {
   "cell_type": "code",
   "execution_count": 1,
   "id": "4b39274d-ed83-4758-aba3-3b3335037279",
   "metadata": {},
   "outputs": [],
   "source": [
    "import sys\n",
    "sys.path.append(\"../tsumugi/proto/\")"
   ]
  },
  {
   "cell_type": "code",
   "execution_count": 2,
   "id": "52802db2-0369-44da-8a83-2638ebf12a1d",
   "metadata": {},
   "outputs": [],
   "source": [
    "from pyspark.sql import SparkSession\n",
    "import pandas as pd"
   ]
  },
  {
   "cell_type": "code",
   "execution_count": 3,
   "id": "ef717b48-412f-4e96-b0d8-af55b9ca1474",
   "metadata": {},
   "outputs": [],
   "source": [
    "spark = SparkSession.builder.remote(\"sc://localhost:15002\").getOrCreate()"
   ]
  },
  {
   "cell_type": "code",
   "execution_count": 4,
   "id": "92a4b52f-23f7-4dc2-bf37-3827afe10705",
   "metadata": {},
   "outputs": [],
   "source": [
    "test_data = spark.createDataFrame(\n",
    "    [\n",
    "        [\"foo\", 1, 4],\n",
    "        [\"bar\", 2, 6],\n",
    "        [\"baz\", 3, None],\n",
    "    ],\n",
    "    schema=\"struct<a:string, b:int, c:int>\"\n",
    ")"
   ]
  },
  {
   "cell_type": "code",
   "execution_count": 5,
   "id": "c8c3f75b-c556-4866-a7a5-39855ba30934",
   "metadata": {},
   "outputs": [
    {
     "name": "stdout",
     "output_type": "stream",
     "text": [
      "+---+---+----+\n",
      "|  a|  b|   c|\n",
      "+---+---+----+\n",
      "|foo|  1|   4|\n",
      "|bar|  2|   6|\n",
      "|baz|  3|NULL|\n",
      "+---+---+----+\n",
      "\n"
     ]
    }
   ],
   "source": [
    "test_data.show()"
   ]
  },
  {
   "cell_type": "code",
   "execution_count": 6,
   "id": "77e73b19-7f7c-4af8-8335-91827b215b7e",
   "metadata": {},
   "outputs": [],
   "source": [
    "from tsumugi.verification import VerificationSuite\n",
    "from tsumugi.analyzers import Size, Minimum, Completeness, CustomSql, ConstraintBuilder\n",
    "from tsumugi.checks import CheckBuilder"
   ]
  },
  {
   "cell_type": "code",
   "execution_count": 7,
   "id": "9ded2c40-cd25-427c-a147-50129bb902bf",
   "metadata": {},
   "outputs": [],
   "source": [
    "suite = (\n",
    "    VerificationSuite.on_data(test_data)\n",
    "    .add_check(\n",
    "        CheckBuilder()\n",
    "        .with_constraint(\n",
    "            ConstraintBuilder()\n",
    "            .for_analyzer(Size())\n",
    "            .should_be_geq_than(3.0)\n",
    "            .build()\n",
    "        )\n",
    "        .with_description(\"hasSize(lambda x: x >= 3)\")\n",
    "        .build()\n",
    "    )\n",
    "    .add_check(\n",
    "        CheckBuilder()\n",
    "        .with_constraint(\n",
    "            ConstraintBuilder()\n",
    "            .for_analyzer(Minimum(column=\"b\"))\n",
    "            .should_be_eq_to(0.0)\n",
    "            .build()\n",
    "        )\n",
    "        .build()\n",
    "    )\n",
    ")"
   ]
  },
  {
   "cell_type": "code",
   "execution_count": 8,
   "id": "2958fb6c-acd7-4e9f-ab60-21175d5aa79c",
   "metadata": {},
   "outputs": [],
   "source": [
    "result = suite.run_with_spark_session(spark)"
   ]
  },
  {
   "cell_type": "code",
   "execution_count": 9,
   "id": "028f68e4-d02e-42bb-9758-bebe04c1467b",
   "metadata": {},
   "outputs": [],
   "source": [
    "from dataclasses import asdict"
   ]
  },
  {
   "cell_type": "code",
   "execution_count": 10,
   "id": "b30fb533-5bfc-4437-9f4e-5114e8701d3f",
   "metadata": {},
   "outputs": [
    {
     "data": {
      "text/html": [
       "<div>\n",
       "<style scoped>\n",
       "    .dataframe tbody tr th:only-of-type {\n",
       "        vertical-align: middle;\n",
       "    }\n",
       "\n",
       "    .dataframe tbody tr th {\n",
       "        vertical-align: top;\n",
       "    }\n",
       "\n",
       "    .dataframe thead th {\n",
       "        text-align: right;\n",
       "    }\n",
       "</style>\n",
       "<table border=\"1\" class=\"dataframe\">\n",
       "  <thead>\n",
       "    <tr style=\"text-align: right;\">\n",
       "      <th></th>\n",
       "      <th>level</th>\n",
       "      <th>check_description</th>\n",
       "      <th>constraint_message</th>\n",
       "      <th>metric_name</th>\n",
       "      <th>metric_instance</th>\n",
       "      <th>metric_entity</th>\n",
       "      <th>metric_value</th>\n",
       "      <th>status</th>\n",
       "      <th>constraint</th>\n",
       "    </tr>\n",
       "  </thead>\n",
       "  <tbody>\n",
       "    <tr>\n",
       "      <th>0</th>\n",
       "      <td>Warning</td>\n",
       "      <td>hasSize(lambda x: x &gt;= 3)</td>\n",
       "      <td></td>\n",
       "      <td>Size</td>\n",
       "      <td>*</td>\n",
       "      <td>Dataset</td>\n",
       "      <td>3.0</td>\n",
       "      <td>Success</td>\n",
       "      <td>SizeConstraint(Size(None))</td>\n",
       "    </tr>\n",
       "    <tr>\n",
       "      <th>1</th>\n",
       "      <td>Warning</td>\n",
       "      <td></td>\n",
       "      <td>Value: 1.0 does not meet the constraint requir...</td>\n",
       "      <td>Minimum</td>\n",
       "      <td>b</td>\n",
       "      <td>Column</td>\n",
       "      <td>1.0</td>\n",
       "      <td>Failure</td>\n",
       "      <td>MinimumConstraint(Minimum(b,None,Some(Analyzer...</td>\n",
       "    </tr>\n",
       "  </tbody>\n",
       "</table>\n",
       "</div>"
      ],
      "text/plain": [
       "     level          check_description  \\\n",
       "0  Warning  hasSize(lambda x: x >= 3)   \n",
       "1  Warning                              \n",
       "\n",
       "                                  constraint_message metric_name  \\\n",
       "0                                                           Size   \n",
       "1  Value: 1.0 does not meet the constraint requir...     Minimum   \n",
       "\n",
       "  metric_instance metric_entity  metric_value   status  \\\n",
       "0               *       Dataset           3.0  Success   \n",
       "1               b        Column           1.0  Failure   \n",
       "\n",
       "                                          constraint  \n",
       "0                         SizeConstraint(Size(None))  \n",
       "1  MinimumConstraint(Minimum(b,None,Some(Analyzer...  "
      ]
     },
     "execution_count": 10,
     "metadata": {},
     "output_type": "execute_result"
    }
   ],
   "source": [
    "pd.DataFrame.from_records([asdict(dt) for dt in result.check_results])"
   ]
  },
  {
   "cell_type": "code",
   "execution_count": 11,
   "id": "944f53b7-cef7-4881-99fc-f56ae670bcf4",
   "metadata": {},
   "outputs": [
    {
     "data": {
      "text/html": [
       "<div>\n",
       "<style scoped>\n",
       "    .dataframe tbody tr th:only-of-type {\n",
       "        vertical-align: middle;\n",
       "    }\n",
       "\n",
       "    .dataframe tbody tr th {\n",
       "        vertical-align: top;\n",
       "    }\n",
       "\n",
       "    .dataframe thead th {\n",
       "        text-align: right;\n",
       "    }\n",
       "</style>\n",
       "<table border=\"1\" class=\"dataframe\">\n",
       "  <thead>\n",
       "    <tr style=\"text-align: right;\">\n",
       "      <th></th>\n",
       "      <th>check</th>\n",
       "      <th>check_level</th>\n",
       "      <th>check_status</th>\n",
       "      <th>constraint</th>\n",
       "      <th>constraint_status</th>\n",
       "      <th>constraint_message</th>\n",
       "    </tr>\n",
       "  </thead>\n",
       "  <tbody>\n",
       "    <tr>\n",
       "      <th>0</th>\n",
       "      <td>hasSize(lambda x: x &gt;= 3)</td>\n",
       "      <td>Warning</td>\n",
       "      <td>Success</td>\n",
       "      <td>SizeConstraint(Size(None))</td>\n",
       "      <td>Success</td>\n",
       "      <td></td>\n",
       "    </tr>\n",
       "    <tr>\n",
       "      <th>1</th>\n",
       "      <td></td>\n",
       "      <td>Warning</td>\n",
       "      <td>Warning</td>\n",
       "      <td>MinimumConstraint(Minimum(b,None,Some(Analyzer...</td>\n",
       "      <td>Failure</td>\n",
       "      <td>Value: 1.0 does not meet the constraint requir...</td>\n",
       "    </tr>\n",
       "  </tbody>\n",
       "</table>\n",
       "</div>"
      ],
      "text/plain": [
       "                       check check_level check_status  \\\n",
       "0  hasSize(lambda x: x >= 3)     Warning      Success   \n",
       "1                                Warning      Warning   \n",
       "\n",
       "                                          constraint constraint_status  \\\n",
       "0                         SizeConstraint(Size(None))           Success   \n",
       "1  MinimumConstraint(Minimum(b,None,Some(Analyzer...           Failure   \n",
       "\n",
       "                                  constraint_message  \n",
       "0                                                     \n",
       "1  Value: 1.0 does not meet the constraint requir...  "
      ]
     },
     "execution_count": 11,
     "metadata": {},
     "output_type": "execute_result"
    }
   ],
   "source": [
    "pd.DataFrame.from_records([asdict(dt) for dt in result.checks])"
   ]
  },
  {
   "cell_type": "code",
   "execution_count": 12,
   "id": "f8995de6-c6e5-4457-8a1d-c33151a459aa",
   "metadata": {},
   "outputs": [
    {
     "data": {
      "text/html": [
       "<div>\n",
       "<style scoped>\n",
       "    .dataframe tbody tr th:only-of-type {\n",
       "        vertical-align: middle;\n",
       "    }\n",
       "\n",
       "    .dataframe tbody tr th {\n",
       "        vertical-align: top;\n",
       "    }\n",
       "\n",
       "    .dataframe thead th {\n",
       "        text-align: right;\n",
       "    }\n",
       "</style>\n",
       "<table border=\"1\" class=\"dataframe\">\n",
       "  <thead>\n",
       "    <tr style=\"text-align: right;\">\n",
       "      <th></th>\n",
       "      <th>entity</th>\n",
       "      <th>instance</th>\n",
       "      <th>name</th>\n",
       "      <th>value</th>\n",
       "    </tr>\n",
       "  </thead>\n",
       "  <tbody>\n",
       "    <tr>\n",
       "      <th>0</th>\n",
       "      <td>Dataset</td>\n",
       "      <td>*</td>\n",
       "      <td>Size</td>\n",
       "      <td>3.0</td>\n",
       "    </tr>\n",
       "    <tr>\n",
       "      <th>1</th>\n",
       "      <td>Column</td>\n",
       "      <td>b</td>\n",
       "      <td>Minimum</td>\n",
       "      <td>1.0</td>\n",
       "    </tr>\n",
       "  </tbody>\n",
       "</table>\n",
       "</div>"
      ],
      "text/plain": [
       "    entity instance     name  value\n",
       "0  Dataset        *     Size    3.0\n",
       "1   Column        b  Minimum    1.0"
      ]
     },
     "execution_count": 12,
     "metadata": {},
     "output_type": "execute_result"
    }
   ],
   "source": [
    "pd.DataFrame.from_records([asdict(dt) for dt in result.metrics])"
   ]
  },
  {
   "cell_type": "code",
   "execution_count": null,
   "id": "130aad14-f3b9-41f4-b473-1949917f4ca4",
   "metadata": {},
   "outputs": [],
   "source": []
  }
 ],
 "metadata": {
  "kernelspec": {
   "display_name": "Python 3 (ipykernel)",
   "language": "python",
   "name": "python3"
  },
  "language_info": {
   "codemirror_mode": {
    "name": "ipython",
    "version": 3
   },
   "file_extension": ".py",
   "mimetype": "text/x-python",
   "name": "python",
   "nbconvert_exporter": "python",
   "pygments_lexer": "ipython3",
   "version": "3.10.14"
  }
 },
 "nbformat": 4,
 "nbformat_minor": 5
}

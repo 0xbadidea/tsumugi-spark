{
 "cells": [
  {
   "cell_type": "markdown",
   "id": "3da092fb-8f7d-4349-bc94-482337aed0cb",
   "metadata": {},
   "source": [
    "# Using predicates\n",
    "\n",
    "This example show how the `where` option can be used with analyzers."
   ]
  },
  {
   "cell_type": "code",
   "execution_count": 1,
   "id": "a06ec8fb-ea6f-44bb-9b15-aa73293494eb",
   "metadata": {},
   "outputs": [],
   "source": [
    "from pyspark.sql import SparkSession\n",
    "import pandas as pd"
   ]
  },
  {
   "cell_type": "code",
   "execution_count": 2,
   "id": "e5c967a5-e071-4332-aa58-08c1bb467b85",
   "metadata": {},
   "outputs": [],
   "source": [
    "spark = SparkSession.builder.remote(\"sc://localhost:15002\").getOrCreate()"
   ]
  },
  {
   "cell_type": "code",
   "execution_count": 3,
   "id": "9bc22d9e-848e-42f9-a484-22e4ea5bdd74",
   "metadata": {},
   "outputs": [],
   "source": [
    "iris = spark.createDataFrame(pd.read_csv(\"https://raw.githubusercontent.com/mwaskom/seaborn-data/refs/heads/master/iris.csv\"))"
   ]
  },
  {
   "cell_type": "code",
   "execution_count": 4,
   "id": "39bb3926-d6c1-4061-b92a-a377d9ba6e03",
   "metadata": {},
   "outputs": [
    {
     "name": "stdout",
     "output_type": "stream",
     "text": [
      "+------------+-----------+------------+-----------+-------+\n",
      "|sepal_length|sepal_width|petal_length|petal_width|species|\n",
      "+------------+-----------+------------+-----------+-------+\n",
      "|         5.1|        3.5|         1.4|        0.2| setosa|\n",
      "|         4.9|        3.0|         1.4|        0.2| setosa|\n",
      "|         4.7|        3.2|         1.3|        0.2| setosa|\n",
      "|         4.6|        3.1|         1.5|        0.2| setosa|\n",
      "|         5.0|        3.6|         1.4|        0.2| setosa|\n",
      "|         5.4|        3.9|         1.7|        0.4| setosa|\n",
      "|         4.6|        3.4|         1.4|        0.3| setosa|\n",
      "|         5.0|        3.4|         1.5|        0.2| setosa|\n",
      "|         4.4|        2.9|         1.4|        0.2| setosa|\n",
      "|         4.9|        3.1|         1.5|        0.1| setosa|\n",
      "|         5.4|        3.7|         1.5|        0.2| setosa|\n",
      "|         4.8|        3.4|         1.6|        0.2| setosa|\n",
      "|         4.8|        3.0|         1.4|        0.1| setosa|\n",
      "|         4.3|        3.0|         1.1|        0.1| setosa|\n",
      "|         5.8|        4.0|         1.2|        0.2| setosa|\n",
      "|         5.7|        4.4|         1.5|        0.4| setosa|\n",
      "|         5.4|        3.9|         1.3|        0.4| setosa|\n",
      "|         5.1|        3.5|         1.4|        0.3| setosa|\n",
      "|         5.7|        3.8|         1.7|        0.3| setosa|\n",
      "|         5.1|        3.8|         1.5|        0.3| setosa|\n",
      "+------------+-----------+------------+-----------+-------+\n",
      "only showing top 20 rows\n",
      "\n"
     ]
    }
   ],
   "source": [
    "iris.show()"
   ]
  },
  {
   "cell_type": "code",
   "execution_count": 5,
   "id": "b56da6d6-1b03-49c0-9ca5-4c56b3a072fd",
   "metadata": {},
   "outputs": [],
   "source": [
    "from tsumugi.verification import VerificationSuite\n",
    "from tsumugi.analyzers import Mean\n",
    "from tsumugi.checks import CheckBuilder"
   ]
  },
  {
   "cell_type": "code",
   "execution_count": 6,
   "id": "59406d23-a205-4510-8422-c059d75ef7ec",
   "metadata": {},
   "outputs": [],
   "source": [
    "suite = (\n",
    "    VerificationSuite\n",
    "    .on_data(iris)\n",
    "    .add_required_analyzer(\n",
    "        Mean(column=\"sepal_length\", where=\"species = 'setosa'\")\n",
    "    )\n",
    "    .add_required_analyzer(\n",
    "        Mean(column=\"sepal_length\", where=\"species = 'versicolor'\")\n",
    "    )\n",
    "    .add_required_analyzer(\n",
    "        Mean(column=\"sepal_length\", where=\"species = 'virginica'\")\n",
    "    )\n",
    ")"
   ]
  },
  {
   "cell_type": "code",
   "execution_count": 7,
   "id": "676eb4ca-746c-4908-98a8-38ec51845db9",
   "metadata": {},
   "outputs": [],
   "source": [
    "result = suite.run()"
   ]
  },
  {
   "cell_type": "code",
   "execution_count": 8,
   "id": "e143c6c0-a75d-4b28-add9-c2d8883908f6",
   "metadata": {},
   "outputs": [
    {
     "data": {
      "text/html": [
       "<div>\n",
       "<style scoped>\n",
       "    .dataframe tbody tr th:only-of-type {\n",
       "        vertical-align: middle;\n",
       "    }\n",
       "\n",
       "    .dataframe tbody tr th {\n",
       "        vertical-align: top;\n",
       "    }\n",
       "\n",
       "    .dataframe thead th {\n",
       "        text-align: right;\n",
       "    }\n",
       "</style>\n",
       "<table border=\"1\" class=\"dataframe\">\n",
       "  <thead>\n",
       "    <tr style=\"text-align: right;\">\n",
       "      <th></th>\n",
       "      <th>entity</th>\n",
       "      <th>instance</th>\n",
       "      <th>name</th>\n",
       "      <th>value</th>\n",
       "    </tr>\n",
       "  </thead>\n",
       "  <tbody>\n",
       "    <tr>\n",
       "      <th>0</th>\n",
       "      <td>Column</td>\n",
       "      <td>sepal_length</td>\n",
       "      <td>Mean (where: species = 'setosa')</td>\n",
       "      <td>5.006</td>\n",
       "    </tr>\n",
       "    <tr>\n",
       "      <th>1</th>\n",
       "      <td>Column</td>\n",
       "      <td>sepal_length</td>\n",
       "      <td>Mean (where: species = 'versicolor')</td>\n",
       "      <td>5.936</td>\n",
       "    </tr>\n",
       "    <tr>\n",
       "      <th>2</th>\n",
       "      <td>Column</td>\n",
       "      <td>sepal_length</td>\n",
       "      <td>Mean (where: species = 'virginica')</td>\n",
       "      <td>6.588</td>\n",
       "    </tr>\n",
       "  </tbody>\n",
       "</table>\n",
       "</div>"
      ],
      "text/plain": [
       "   entity      instance                                  name  value\n",
       "0  Column  sepal_length      Mean (where: species = 'setosa')  5.006\n",
       "1  Column  sepal_length  Mean (where: species = 'versicolor')  5.936\n",
       "2  Column  sepal_length   Mean (where: species = 'virginica')  6.588"
      ]
     },
     "execution_count": 8,
     "metadata": {},
     "output_type": "execute_result"
    }
   ],
   "source": [
    "result.metrics_as_pandas()"
   ]
  }
 ],
 "metadata": {
  "kernelspec": {
   "display_name": "Python 3 (ipykernel)",
   "language": "python",
   "name": "python3"
  },
  "language_info": {
   "codemirror_mode": {
    "name": "ipython",
    "version": 3
   },
   "file_extension": ".py",
   "mimetype": "text/x-python",
   "name": "python",
   "nbconvert_exporter": "python",
   "pygments_lexer": "ipython3",
   "version": "3.10.14"
  }
 },
 "nbformat": 4,
 "nbformat_minor": 5
}
